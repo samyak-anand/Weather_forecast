{
 "cells": [
  {
   "cell_type": "code",
   "execution_count": 24,
   "metadata": {},
   "outputs": [],
   "source": [
    "import numpy as np \n",
    "import pandas as pd"
   ]
  },
  {
   "cell_type": "code",
   "execution_count": 25,
   "metadata": {},
   "outputs": [],
   "source": [
    "weather_code = pd.read_csv(\"weather_code.csv\")"
   ]
  },
  {
   "cell_type": "code",
   "execution_count": 26,
   "metadata": {},
   "outputs": [
    {
     "data": {
      "text/html": [
       "<div>\n",
       "<style scoped>\n",
       "    .dataframe tbody tr th:only-of-type {\n",
       "        vertical-align: middle;\n",
       "    }\n",
       "\n",
       "    .dataframe tbody tr th {\n",
       "        vertical-align: top;\n",
       "    }\n",
       "\n",
       "    .dataframe thead th {\n",
       "        text-align: right;\n",
       "    }\n",
       "</style>\n",
       "<table border=\"1\" class=\"dataframe\">\n",
       "  <thead>\n",
       "    <tr style=\"text-align: right;\">\n",
       "      <th></th>\n",
       "      <th>location_id</th>\n",
       "      <th>latitude</th>\n",
       "      <th>longitude</th>\n",
       "      <th>elevation</th>\n",
       "      <th>utc_offset_seconds</th>\n",
       "      <th>timezone</th>\n",
       "      <th>timezone_abbreviation</th>\n",
       "    </tr>\n",
       "  </thead>\n",
       "  <tbody>\n",
       "    <tr>\n",
       "      <th>0</th>\n",
       "      <td>0</td>\n",
       "      <td>52.548330</td>\n",
       "      <td>13.407822</td>\n",
       "      <td>46</td>\n",
       "      <td>7200</td>\n",
       "      <td>Europe/Berlin</td>\n",
       "      <td>CEST</td>\n",
       "    </tr>\n",
       "    <tr>\n",
       "      <th>1</th>\n",
       "      <td>1</td>\n",
       "      <td>53.532513</td>\n",
       "      <td>9.980879</td>\n",
       "      <td>11</td>\n",
       "      <td>7200</td>\n",
       "      <td>Europe/Berlin</td>\n",
       "      <td>CEST</td>\n",
       "    </tr>\n",
       "    <tr>\n",
       "      <th>2</th>\n",
       "      <td>2</td>\n",
       "      <td>48.119507</td>\n",
       "      <td>11.550000</td>\n",
       "      <td>524</td>\n",
       "      <td>7200</td>\n",
       "      <td>Europe/Berlin</td>\n",
       "      <td>CEST</td>\n",
       "    </tr>\n",
       "    <tr>\n",
       "      <th>3</th>\n",
       "      <td>3</td>\n",
       "      <td>50.087870</td>\n",
       "      <td>8.653846</td>\n",
       "      <td>117</td>\n",
       "      <td>7200</td>\n",
       "      <td>Europe/Berlin</td>\n",
       "      <td>CEST</td>\n",
       "    </tr>\n",
       "    <tr>\n",
       "      <th>4</th>\n",
       "      <td>4</td>\n",
       "      <td>52.337433</td>\n",
       "      <td>14.500000</td>\n",
       "      <td>28</td>\n",
       "      <td>7200</td>\n",
       "      <td>Europe/Berlin</td>\n",
       "      <td>CEST</td>\n",
       "    </tr>\n",
       "  </tbody>\n",
       "</table>\n",
       "</div>"
      ],
      "text/plain": [
       "   location_id   latitude  longitude  elevation  utc_offset_seconds  \\\n",
       "0            0  52.548330  13.407822         46                7200   \n",
       "1            1  53.532513   9.980879         11                7200   \n",
       "2            2  48.119507  11.550000        524                7200   \n",
       "3            3  50.087870   8.653846        117                7200   \n",
       "4            4  52.337433  14.500000         28                7200   \n",
       "\n",
       "        timezone timezone_abbreviation  \n",
       "0  Europe/Berlin                  CEST  \n",
       "1  Europe/Berlin                  CEST  \n",
       "2  Europe/Berlin                  CEST  \n",
       "3  Europe/Berlin                  CEST  \n",
       "4  Europe/Berlin                  CEST  "
      ]
     },
     "execution_count": 26,
     "metadata": {},
     "output_type": "execute_result"
    }
   ],
   "source": [
    "weather_code\n"
   ]
  },
  {
   "cell_type": "code",
   "execution_count": 27,
   "metadata": {},
   "outputs": [],
   "source": [
    "weather_code['Geo_location']= weather_code['latitude'].astype(str) + ',' + weather_code['longitude'].astype(str)"
   ]
  },
  {
   "cell_type": "code",
   "execution_count": 28,
   "metadata": {},
   "outputs": [
    {
     "data": {
      "text/html": [
       "<div>\n",
       "<style scoped>\n",
       "    .dataframe tbody tr th:only-of-type {\n",
       "        vertical-align: middle;\n",
       "    }\n",
       "\n",
       "    .dataframe tbody tr th {\n",
       "        vertical-align: top;\n",
       "    }\n",
       "\n",
       "    .dataframe thead th {\n",
       "        text-align: right;\n",
       "    }\n",
       "</style>\n",
       "<table border=\"1\" class=\"dataframe\">\n",
       "  <thead>\n",
       "    <tr style=\"text-align: right;\">\n",
       "      <th></th>\n",
       "      <th>location_id</th>\n",
       "      <th>latitude</th>\n",
       "      <th>longitude</th>\n",
       "      <th>elevation</th>\n",
       "      <th>utc_offset_seconds</th>\n",
       "      <th>timezone</th>\n",
       "      <th>timezone_abbreviation</th>\n",
       "      <th>Geo_location</th>\n",
       "    </tr>\n",
       "  </thead>\n",
       "  <tbody>\n",
       "    <tr>\n",
       "      <th>0</th>\n",
       "      <td>0</td>\n",
       "      <td>52.548330</td>\n",
       "      <td>13.407822</td>\n",
       "      <td>46</td>\n",
       "      <td>7200</td>\n",
       "      <td>Europe/Berlin</td>\n",
       "      <td>CEST</td>\n",
       "      <td>52.54833,13.407822</td>\n",
       "    </tr>\n",
       "    <tr>\n",
       "      <th>1</th>\n",
       "      <td>1</td>\n",
       "      <td>53.532513</td>\n",
       "      <td>9.980879</td>\n",
       "      <td>11</td>\n",
       "      <td>7200</td>\n",
       "      <td>Europe/Berlin</td>\n",
       "      <td>CEST</td>\n",
       "      <td>53.532513,9.980879</td>\n",
       "    </tr>\n",
       "    <tr>\n",
       "      <th>2</th>\n",
       "      <td>2</td>\n",
       "      <td>48.119507</td>\n",
       "      <td>11.550000</td>\n",
       "      <td>524</td>\n",
       "      <td>7200</td>\n",
       "      <td>Europe/Berlin</td>\n",
       "      <td>CEST</td>\n",
       "      <td>48.119507,11.55</td>\n",
       "    </tr>\n",
       "    <tr>\n",
       "      <th>3</th>\n",
       "      <td>3</td>\n",
       "      <td>50.087870</td>\n",
       "      <td>8.653846</td>\n",
       "      <td>117</td>\n",
       "      <td>7200</td>\n",
       "      <td>Europe/Berlin</td>\n",
       "      <td>CEST</td>\n",
       "      <td>50.08787,8.653846</td>\n",
       "    </tr>\n",
       "    <tr>\n",
       "      <th>4</th>\n",
       "      <td>4</td>\n",
       "      <td>52.337433</td>\n",
       "      <td>14.500000</td>\n",
       "      <td>28</td>\n",
       "      <td>7200</td>\n",
       "      <td>Europe/Berlin</td>\n",
       "      <td>CEST</td>\n",
       "      <td>52.337433,14.5</td>\n",
       "    </tr>\n",
       "  </tbody>\n",
       "</table>\n",
       "</div>"
      ],
      "text/plain": [
       "   location_id   latitude  longitude  elevation  utc_offset_seconds  \\\n",
       "0            0  52.548330  13.407822         46                7200   \n",
       "1            1  53.532513   9.980879         11                7200   \n",
       "2            2  48.119507  11.550000        524                7200   \n",
       "3            3  50.087870   8.653846        117                7200   \n",
       "4            4  52.337433  14.500000         28                7200   \n",
       "\n",
       "        timezone timezone_abbreviation        Geo_location  \n",
       "0  Europe/Berlin                  CEST  52.54833,13.407822  \n",
       "1  Europe/Berlin                  CEST  53.532513,9.980879  \n",
       "2  Europe/Berlin                  CEST     48.119507,11.55  \n",
       "3  Europe/Berlin                  CEST   50.08787,8.653846  \n",
       "4  Europe/Berlin                  CEST      52.337433,14.5  "
      ]
     },
     "execution_count": 28,
     "metadata": {},
     "output_type": "execute_result"
    }
   ],
   "source": [
    "weather_code"
   ]
  },
  {
   "cell_type": "code",
   "execution_count": 29,
   "metadata": {},
   "outputs": [
    {
     "name": "stdout",
     "output_type": "stream",
     "text": [
      "   location_id   latitude  longitude  elevation  utc_offset_seconds timezone  \\\n",
      "0            0  52.548330  13.407822         34                3600      CET   \n",
      "1            1  53.532513   9.980879         45                3600      CET   \n",
      "2            2  48.119507  11.550000         30                3600      CET   \n",
      "3            3  50.087870   8.653846         28                3600      CET   \n",
      "4            4  52.337433  14.500000         50                3600      CET   \n",
      "\n",
      "  timezone_abbreviation      Place  \n",
      "0                  CEST     Berlin  \n",
      "1                  CEST    Hamburg  \n",
      "2                  CEST     Munich  \n",
      "3                  CEST  Frankfurt  \n",
      "4                  CEST     Berlin  \n"
     ]
    }
   ],
   "source": [
    "weather_code = pd.DataFrame({\n",
    "    'location_id': [0,1,2,3,4],\n",
    "    'latitude': [52.54833, 53.532513, 48.119507, 50.08787, 52.337433],\n",
    "    'longitude': [13.407822, 9.980879, 11.55, 8.653846, 14.5],\n",
    "    'elevation': [34, 45, 30, 28, 50],\n",
    "    'utc_offset_seconds': [3600, 3600, 3600, 3600, 3600],\n",
    "    'timezone': ['CET', 'CET', 'CET', 'CET', 'CET'],\n",
    "    'timezone_abbreviation': ['CEST', 'CEST', 'CEST', 'CEST', 'CEST']\n",
    "    \n",
    "})\n",
    "\n",
    "#Function to determine the place based on coordinates\n",
    "def get_place(latitude, longitude):\n",
    "    if latitude == 52.54833 and longitude == 13.407822:\n",
    "        return 'Berlin'\n",
    "    elif latitude == 53.532513 and longitude == 9.980879:\n",
    "        return 'Hamburg'  # Assuming city for given coordinates\n",
    "    elif latitude == 48.119507 and longitude == 11.55:\n",
    "        return 'Munich'  # Assuming city for given coordinates\n",
    "    elif latitude == 50.08787 and longitude == 8.653846:\n",
    "        return 'Frankfurt'  # Assuming city for given coordinates\n",
    "    elif latitude == 52.337433 and longitude == 14.5:\n",
    "        return 'Berlin'  # Assuming city for given coordinates\n",
    "    else:\n",
    "        return 'Unknown'\n",
    "\n",
    "# Add the 'place' column\n",
    "weather_code['Place'] = weather_code.apply(lambda row: get_place(row['latitude'], row['longitude']), axis=1)\n",
    "\n",
    "# Print the DataFrame to verify the changes\n",
    "print(weather_code)"
   ]
  },
  {
   "cell_type": "code",
   "execution_count": 30,
   "metadata": {},
   "outputs": [],
   "source": [
    "import sqlite3\n",
    "from sqlalchemy import create_engine"
   ]
  },
  {
   "cell_type": "code",
   "execution_count": 31,
   "metadata": {},
   "outputs": [],
   "source": [
    "conn = sqlite3.connect('Weather.db')\n",
    "cursor = conn.cursor()"
   ]
  },
  {
   "cell_type": "code",
   "execution_count": 32,
   "metadata": {},
   "outputs": [
    {
     "data": {
      "text/plain": [
       "<sqlite3.Cursor at 0x74214eb7c7c0>"
      ]
     },
     "execution_count": 32,
     "metadata": {},
     "output_type": "execute_result"
    }
   ],
   "source": [
    "cursor.execute('''CREATE TABLE IF NOT EXISTS weather_code\n",
    "                  (location_id INTEGER PRIMARY KEY,\n",
    "                   latitude FLOAT NOT NULL,\n",
    "                   longitude FLOAT NOT NULL,\n",
    "                   elevation INT,\n",
    "                   utc_offset_seconds INT,\n",
    "                   timezone VARCHAR(32),\n",
    "                   timezone_abbreviation CHAR(4),\n",
    "                   Place VARCHAR(24))\n",
    "                ''')"
   ]
  },
  {
   "cell_type": "code",
   "execution_count": 33,
   "metadata": {},
   "outputs": [],
   "source": [
    "conn.commit()"
   ]
  },
  {
   "cell_type": "code",
   "execution_count": 34,
   "metadata": {},
   "outputs": [],
   "source": [
    "for index, row in weather_code.iterrows():\n",
    "    cursor.execute('''INSERT INTO weather_code(\n",
    "                        location_id,\n",
    "                        latitude,\n",
    "                        longitude,\n",
    "                        elevation,\n",
    "                        utc_offset_seconds,\n",
    "                        timezone,\n",
    "                        timezone_abbreviation,\n",
    "                        \n",
    "                        Place)\n",
    "                      VALUES (?, ?, ?, ?, ?, ?, ?, ?)''',\n",
    "                   (row['location_id'],\n",
    "                    row['latitude'],\n",
    "                    row['longitude'],\n",
    "                    row['elevation'],\n",
    "                    row['utc_offset_seconds'],\n",
    "                    row['timezone'],\n",
    "                    row['timezone_abbreviation'],\n",
    "                    row['Place']))\n",
    "conn.commit()\n"
   ]
  },
  {
   "cell_type": "code",
   "execution_count": 35,
   "metadata": {},
   "outputs": [
    {
     "name": "stdout",
     "output_type": "stream",
     "text": [
      "(0, 52.54833, 13.407822, 34, 3600, 'CET', 'CEST', 'Berlin')\n",
      "(1, 53.532513, 9.980879, 45, 3600, 'CET', 'CEST', 'Hamburg')\n",
      "(2, 48.119507, 11.55, 30, 3600, 'CET', 'CEST', 'Munich')\n",
      "(3, 50.08787, 8.653846, 28, 3600, 'CET', 'CEST', 'Frankfurt')\n",
      "(4, 52.337433, 14.5, 50, 3600, 'CET', 'CEST', 'Berlin')\n"
     ]
    }
   ],
   "source": [
    "cursor.execute('''SELECT * FROM weather_code''')\n",
    "rows = cursor.fetchall()\n",
    "for row in rows:\n",
    "    print(row)\n",
    "    "
   ]
  },
  {
   "cell_type": "code",
   "execution_count": 36,
   "metadata": {},
   "outputs": [],
   "source": [
    "weather = pd.read_csv(\"weather.csv\")"
   ]
  },
  {
   "cell_type": "code",
   "execution_count": 42,
   "metadata": {},
   "outputs": [
    {
     "name": "stdout",
     "output_type": "stream",
     "text": [
      "Index(['location_id', 'time', 'temperature_2m (°C)',\n",
      "       'relative_humidity_2m (%)', 'apparent_temperature (°C)',\n",
      "       'precipitation (mm)', 'weather_code (wmo code)',\n",
      "       'wind_speed_10m (km/h)'],\n",
      "      dtype='object')\n"
     ]
    }
   ],
   "source": [
    "print(weather.columns)"
   ]
  },
  {
   "cell_type": "code",
   "execution_count": 39,
   "metadata": {},
   "outputs": [],
   "source": [
    "conn = sqlite3.connect('Weather.db')\n",
    "cursor = conn.cursor()"
   ]
  },
  {
   "cell_type": "code",
   "execution_count": null,
   "metadata": {},
   "outputs": [],
   "source": [
    "test_data.to_sql('test_data', con=engine, index=False, if_exists='replace')"
   ]
  }
 ],
 "metadata": {
  "kernelspec": {
   "display_name": ".venv",
   "language": "python",
   "name": "python3"
  },
  "language_info": {
   "codemirror_mode": {
    "name": "ipython",
    "version": 3
   },
   "file_extension": ".py",
   "mimetype": "text/x-python",
   "name": "python",
   "nbconvert_exporter": "python",
   "pygments_lexer": "ipython3",
   "version": "3.12.3"
  }
 },
 "nbformat": 4,
 "nbformat_minor": 2
}
